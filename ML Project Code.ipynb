{
 "cells": [
  {
   "cell_type": "markdown",
   "metadata": {
    "id": "9OsSPmeoVZK1"
   },
   "source": [
    "# Importing libraries"
   ]
  },
  {
   "cell_type": "code",
   "execution_count": 1,
   "metadata": {
    "colab": {
     "base_uri": "https://localhost:8080/"
    },
    "id": "d-HPt7W2AXJ_",
    "outputId": "9caff162-dedb-47e4-efaa-60f37a8fd894"
   },
   "outputs": [],
   "source": [
    "import pandas as pd\n",
    "import os\n",
    "import glob\n",
    "import re\n",
    "import string\n",
    "import numpy as np\n",
    "import scipy.sparse\n",
    "from tensorflow import keras\n",
    "import seaborn as sns"
   ]
  },
  {
   "cell_type": "code",
   "execution_count": 2,
   "metadata": {},
   "outputs": [
    {
     "name": "stderr",
     "output_type": "stream",
     "text": [
      "[nltk_data] Downloading package wordnet to\n",
      "[nltk_data]     C:\\Users\\ashwi\\AppData\\Roaming\\nltk_data...\n",
      "[nltk_data]   Package wordnet is already up-to-date!\n"
     ]
    },
    {
     "data": {
      "text/plain": [
       "True"
      ]
     },
     "execution_count": 2,
     "metadata": {},
     "output_type": "execute_result"
    }
   ],
   "source": [
    "import nltk\n",
    "from nltk.stem import PorterStemmer\n",
    "from nltk.stem import WordNetLemmatizer\n",
    "from nltk.tokenize import word_tokenize\n",
    "nltk.download('wordnet')"
   ]
  },
  {
   "cell_type": "code",
   "execution_count": 3,
   "metadata": {},
   "outputs": [],
   "source": [
    "from sklearn.feature_extraction.text import CountVectorizer\n",
    "from sklearn.feature_extraction.text import TfidfVectorizer\n",
    "from sklearn.feature_selection import SelectKBest, f_classif\n",
    "from sklearn.model_selection import train_test_split"
   ]
  },
  {
   "cell_type": "code",
   "execution_count": 4,
   "metadata": {},
   "outputs": [],
   "source": [
    "from sklearn.pipeline import FeatureUnion\n",
    "from sklearn.model_selection import KFold\n",
    "from sklearn.model_selection import cross_val_score\n",
    "from sklearn.model_selection import GridSearchCV"
   ]
  },
  {
   "cell_type": "code",
   "execution_count": 5,
   "metadata": {},
   "outputs": [],
   "source": [
    "from sklearn import svm\n",
    "from sklearn.ensemble import RandomForestClassifier\n",
    "from sklearn.linear_model import LogisticRegression\n",
    "from sklearn.naive_bayes import BernoulliNB, MultinomialNB\n",
    "from sklearn.ensemble import VotingClassifier"
   ]
  },
  {
   "cell_type": "code",
   "execution_count": 6,
   "metadata": {},
   "outputs": [],
   "source": [
    "from sklearn.metrics import classification_report, confusion_matrix, accuracy_score\n",
    "from sklearn.metrics import precision_score, recall_score, f1_score"
   ]
  },
  {
   "cell_type": "markdown",
   "metadata": {
    "id": "aHkBbwhVGCV_"
   },
   "source": [
    "# Extracting data from each folders which contain .txt files"
   ]
  },
  {
   "cell_type": "code",
   "execution_count": 7,
   "metadata": {},
   "outputs": [
    {
     "data": {
      "text/html": [
       "<div>\n",
       "<style scoped>\n",
       "    .dataframe tbody tr th:only-of-type {\n",
       "        vertical-align: middle;\n",
       "    }\n",
       "\n",
       "    .dataframe tbody tr th {\n",
       "        vertical-align: top;\n",
       "    }\n",
       "\n",
       "    .dataframe thead th {\n",
       "        text-align: right;\n",
       "    }\n",
       "</style>\n",
       "<table border=\"1\" class=\"dataframe\">\n",
       "  <thead>\n",
       "    <tr style=\"text-align: right;\">\n",
       "      <th></th>\n",
       "      <th>category</th>\n",
       "      <th>text</th>\n",
       "    </tr>\n",
       "  </thead>\n",
       "  <tbody>\n",
       "    <tr>\n",
       "      <th>0</th>\n",
       "      <td>tech</td>\n",
       "      <td>tv future in the hands of viewers with home th...</td>\n",
       "    </tr>\n",
       "    <tr>\n",
       "      <th>1</th>\n",
       "      <td>business</td>\n",
       "      <td>worldcom boss  left books alone  former worldc...</td>\n",
       "    </tr>\n",
       "    <tr>\n",
       "      <th>2</th>\n",
       "      <td>sport</td>\n",
       "      <td>tigers wary of farrell  gamble  leicester say ...</td>\n",
       "    </tr>\n",
       "    <tr>\n",
       "      <th>3</th>\n",
       "      <td>sport</td>\n",
       "      <td>yeading face newcastle in fa cup premiership s...</td>\n",
       "    </tr>\n",
       "    <tr>\n",
       "      <th>4</th>\n",
       "      <td>entertainment</td>\n",
       "      <td>ocean s twelve raids box office ocean s twelve...</td>\n",
       "    </tr>\n",
       "  </tbody>\n",
       "</table>\n",
       "</div>"
      ],
      "text/plain": [
       "        category                                               text\n",
       "0           tech  tv future in the hands of viewers with home th...\n",
       "1       business  worldcom boss  left books alone  former worldc...\n",
       "2          sport  tigers wary of farrell  gamble  leicester say ...\n",
       "3          sport  yeading face newcastle in fa cup premiership s...\n",
       "4  entertainment  ocean s twelve raids box office ocean s twelve..."
      ]
     },
     "execution_count": 7,
     "metadata": {},
     "output_type": "execute_result"
    }
   ],
   "source": [
    "dataframe = pd.read_csv('bbc-text.csv')\n",
    "#we are using the head function to print the first 5 rows\n",
    "dataframe.head()"
   ]
  },
  {
   "cell_type": "code",
   "execution_count": 8,
   "metadata": {},
   "outputs": [
    {
     "data": {
      "text/plain": [
       "<bound method DataFrame.info of            category                                               text\n",
       "0              tech  tv future in the hands of viewers with home th...\n",
       "1          business  worldcom boss  left books alone  former worldc...\n",
       "2             sport  tigers wary of farrell  gamble  leicester say ...\n",
       "3             sport  yeading face newcastle in fa cup premiership s...\n",
       "4     entertainment  ocean s twelve raids box office ocean s twelve...\n",
       "...             ...                                                ...\n",
       "2220       business  cars pull down us retail figures us retail sal...\n",
       "2221       politics  kilroy unveils immigration policy ex-chatshow ...\n",
       "2222  entertainment  rem announce new glasgow concert us band rem h...\n",
       "2223       politics  how political squabbles snowball it s become c...\n",
       "2224          sport  souness delight at euro progress boss graeme s...\n",
       "\n",
       "[2225 rows x 2 columns]>"
      ]
     },
     "execution_count": 8,
     "metadata": {},
     "output_type": "execute_result"
    }
   ],
   "source": [
    "dataframe.info"
   ]
  },
  {
   "cell_type": "code",
   "execution_count": 9,
   "metadata": {},
   "outputs": [],
   "source": [
    "columns_titles = [\"text\",\"category\"]\n",
    "dataframe2 = dataframe.reindex(columns=columns_titles)\n"
   ]
  },
  {
   "cell_type": "code",
   "execution_count": 10,
   "metadata": {},
   "outputs": [
    {
     "data": {
      "text/html": [
       "<div>\n",
       "<style scoped>\n",
       "    .dataframe tbody tr th:only-of-type {\n",
       "        vertical-align: middle;\n",
       "    }\n",
       "\n",
       "    .dataframe tbody tr th {\n",
       "        vertical-align: top;\n",
       "    }\n",
       "\n",
       "    .dataframe thead th {\n",
       "        text-align: right;\n",
       "    }\n",
       "</style>\n",
       "<table border=\"1\" class=\"dataframe\">\n",
       "  <thead>\n",
       "    <tr style=\"text-align: right;\">\n",
       "      <th></th>\n",
       "      <th>text</th>\n",
       "      <th>category</th>\n",
       "    </tr>\n",
       "  </thead>\n",
       "  <tbody>\n",
       "    <tr>\n",
       "      <th>0</th>\n",
       "      <td>tv future in the hands of viewers with home th...</td>\n",
       "      <td>tech</td>\n",
       "    </tr>\n",
       "    <tr>\n",
       "      <th>1</th>\n",
       "      <td>worldcom boss  left books alone  former worldc...</td>\n",
       "      <td>business</td>\n",
       "    </tr>\n",
       "    <tr>\n",
       "      <th>2</th>\n",
       "      <td>tigers wary of farrell  gamble  leicester say ...</td>\n",
       "      <td>sport</td>\n",
       "    </tr>\n",
       "    <tr>\n",
       "      <th>3</th>\n",
       "      <td>yeading face newcastle in fa cup premiership s...</td>\n",
       "      <td>sport</td>\n",
       "    </tr>\n",
       "    <tr>\n",
       "      <th>4</th>\n",
       "      <td>ocean s twelve raids box office ocean s twelve...</td>\n",
       "      <td>entertainment</td>\n",
       "    </tr>\n",
       "  </tbody>\n",
       "</table>\n",
       "</div>"
      ],
      "text/plain": [
       "                                                text       category\n",
       "0  tv future in the hands of viewers with home th...           tech\n",
       "1  worldcom boss  left books alone  former worldc...       business\n",
       "2  tigers wary of farrell  gamble  leicester say ...          sport\n",
       "3  yeading face newcastle in fa cup premiership s...          sport\n",
       "4  ocean s twelve raids box office ocean s twelve...  entertainment"
      ]
     },
     "execution_count": 10,
     "metadata": {},
     "output_type": "execute_result"
    }
   ],
   "source": [
    "dataframe2.head()"
   ]
  },
  {
   "cell_type": "code",
   "execution_count": 11,
   "metadata": {},
   "outputs": [
    {
     "data": {
      "text/html": [
       "<div>\n",
       "<style scoped>\n",
       "    .dataframe tbody tr th:only-of-type {\n",
       "        vertical-align: middle;\n",
       "    }\n",
       "\n",
       "    .dataframe tbody tr th {\n",
       "        vertical-align: top;\n",
       "    }\n",
       "\n",
       "    .dataframe thead th {\n",
       "        text-align: right;\n",
       "    }\n",
       "</style>\n",
       "<table border=\"1\" class=\"dataframe\">\n",
       "  <thead>\n",
       "    <tr style=\"text-align: right;\">\n",
       "      <th></th>\n",
       "      <th>Articles</th>\n",
       "      <th>Categories</th>\n",
       "    </tr>\n",
       "  </thead>\n",
       "  <tbody>\n",
       "    <tr>\n",
       "      <th>0</th>\n",
       "      <td>tv future in the hands of viewers with home th...</td>\n",
       "      <td>tech</td>\n",
       "    </tr>\n",
       "    <tr>\n",
       "      <th>1</th>\n",
       "      <td>worldcom boss  left books alone  former worldc...</td>\n",
       "      <td>business</td>\n",
       "    </tr>\n",
       "    <tr>\n",
       "      <th>2</th>\n",
       "      <td>tigers wary of farrell  gamble  leicester say ...</td>\n",
       "      <td>sport</td>\n",
       "    </tr>\n",
       "    <tr>\n",
       "      <th>3</th>\n",
       "      <td>yeading face newcastle in fa cup premiership s...</td>\n",
       "      <td>sport</td>\n",
       "    </tr>\n",
       "    <tr>\n",
       "      <th>4</th>\n",
       "      <td>ocean s twelve raids box office ocean s twelve...</td>\n",
       "      <td>entertainment</td>\n",
       "    </tr>\n",
       "  </tbody>\n",
       "</table>\n",
       "</div>"
      ],
      "text/plain": [
       "                                            Articles     Categories\n",
       "0  tv future in the hands of viewers with home th...           tech\n",
       "1  worldcom boss  left books alone  former worldc...       business\n",
       "2  tigers wary of farrell  gamble  leicester say ...          sport\n",
       "3  yeading face newcastle in fa cup premiership s...          sport\n",
       "4  ocean s twelve raids box office ocean s twelve...  entertainment"
      ]
     },
     "execution_count": 11,
     "metadata": {},
     "output_type": "execute_result"
    }
   ],
   "source": [
    "df = dataframe2.rename(columns={'text': 'Articles', 'category': 'Categories'})\n",
    "df.head()"
   ]
  },
  {
   "cell_type": "code",
   "execution_count": 12,
   "metadata": {
    "scrolled": true
   },
   "outputs": [
    {
     "data": {
      "text/plain": [
       "<AxesSubplot:>"
      ]
     },
     "execution_count": 12,
     "metadata": {},
     "output_type": "execute_result"
    },
    {
     "data": {
      "image/png": "[encoded data removed]",
      "text/plain": [
       "<Figure size 432x288 with 1 Axes>"
      ]
     },
     "metadata": {
      "needs_background": "light"
     },
     "output_type": "display_data"
    }
   ],
   "source": [
    "df.Categories.value_counts().plot(kind='bar')"
   ]
  },
  {
   "cell_type": "markdown",
   "metadata": {
    "id": "GN_S36uLGBXF"
   },
   "source": [
    "# Creating data frame of the data which we recieved after extraction."
   ]
  },
  {
   "cell_type": "code",
   "execution_count": 13,
   "metadata": {
    "colab": {
     "base_uri": "https://localhost:8080/",
     "height": 423
    },
    "id": "G8OU23_UF_uX",
    "outputId": "280637a3-63a2-4387-d6fc-75a035e81b5e"
   },
   "outputs": [
    {
     "data": {
      "text/html": [
       "<div>\n",
       "<style scoped>\n",
       "    .dataframe tbody tr th:only-of-type {\n",
       "        vertical-align: middle;\n",
       "    }\n",
       "\n",
       "    .dataframe tbody tr th {\n",
       "        vertical-align: top;\n",
       "    }\n",
       "\n",
       "    .dataframe thead th {\n",
       "        text-align: right;\n",
       "    }\n",
       "</style>\n",
       "<table border=\"1\" class=\"dataframe\">\n",
       "  <thead>\n",
       "    <tr style=\"text-align: right;\">\n",
       "      <th></th>\n",
       "      <th>Articles</th>\n",
       "      <th>Categories</th>\n",
       "    </tr>\n",
       "  </thead>\n",
       "  <tbody>\n",
       "    <tr>\n",
       "      <th>0</th>\n",
       "      <td>tv future in the hands of viewers with home th...</td>\n",
       "      <td>tech</td>\n",
       "    </tr>\n",
       "    <tr>\n",
       "      <th>1</th>\n",
       "      <td>worldcom boss  left books alone  former worldc...</td>\n",
       "      <td>business</td>\n",
       "    </tr>\n",
       "    <tr>\n",
       "      <th>2</th>\n",
       "      <td>tigers wary of farrell  gamble  leicester say ...</td>\n",
       "      <td>sport</td>\n",
       "    </tr>\n",
       "    <tr>\n",
       "      <th>3</th>\n",
       "      <td>yeading face newcastle in fa cup premiership s...</td>\n",
       "      <td>sport</td>\n",
       "    </tr>\n",
       "    <tr>\n",
       "      <th>4</th>\n",
       "      <td>ocean s twelve raids box office ocean s twelve...</td>\n",
       "      <td>entertainment</td>\n",
       "    </tr>\n",
       "    <tr>\n",
       "      <th>...</th>\n",
       "      <td>...</td>\n",
       "      <td>...</td>\n",
       "    </tr>\n",
       "    <tr>\n",
       "      <th>2220</th>\n",
       "      <td>cars pull down us retail figures us retail sal...</td>\n",
       "      <td>business</td>\n",
       "    </tr>\n",
       "    <tr>\n",
       "      <th>2221</th>\n",
       "      <td>kilroy unveils immigration policy ex-chatshow ...</td>\n",
       "      <td>politics</td>\n",
       "    </tr>\n",
       "    <tr>\n",
       "      <th>2222</th>\n",
       "      <td>rem announce new glasgow concert us band rem h...</td>\n",
       "      <td>entertainment</td>\n",
       "    </tr>\n",
       "    <tr>\n",
       "      <th>2223</th>\n",
       "      <td>how political squabbles snowball it s become c...</td>\n",
       "      <td>politics</td>\n",
       "    </tr>\n",
       "    <tr>\n",
       "      <th>2224</th>\n",
       "      <td>souness delight at euro progress boss graeme s...</td>\n",
       "      <td>sport</td>\n",
       "    </tr>\n",
       "  </tbody>\n",
       "</table>\n",
       "<p>2225 rows × 2 columns</p>\n",
       "</div>"
      ],
      "text/plain": [
       "                                               Articles     Categories\n",
       "0     tv future in the hands of viewers with home th...           tech\n",
       "1     worldcom boss  left books alone  former worldc...       business\n",
       "2     tigers wary of farrell  gamble  leicester say ...          sport\n",
       "3     yeading face newcastle in fa cup premiership s...          sport\n",
       "4     ocean s twelve raids box office ocean s twelve...  entertainment\n",
       "...                                                 ...            ...\n",
       "2220  cars pull down us retail figures us retail sal...       business\n",
       "2221  kilroy unveils immigration policy ex-chatshow ...       politics\n",
       "2222  rem announce new glasgow concert us band rem h...  entertainment\n",
       "2223  how political squabbles snowball it s become c...       politics\n",
       "2224  souness delight at euro progress boss graeme s...          sport\n",
       "\n",
       "[2225 rows x 2 columns]"
      ]
     },
     "execution_count": 13,
     "metadata": {},
     "output_type": "execute_result"
    }
   ],
   "source": [
    "\n",
    "# we can now convert the data categories & articles list into a dataframe.\n",
    "Y=df['Categories']#extracting the Categories column into a variable for later use.\n",
    "df"
   ]
  },
  {
   "cell_type": "code",
   "execution_count": 14,
   "metadata": {
    "colab": {
     "base_uri": "https://localhost:8080/",
     "height": 580
    },
    "id": "NYZvk-VVd-Xc",
    "outputId": "8f10c426-6bb1-4044-f070-66bd3cf05f1a"
   },
   "outputs": [
    {
     "name": "stdout",
     "output_type": "stream",
     "text": [
      "<class 'pandas.core.frame.DataFrame'>\n",
      "RangeIndex: 2225 entries, 0 to 2224\n",
      "Data columns (total 2 columns):\n",
      " #   Column      Non-Null Count  Dtype \n",
      "---  ------      --------------  ----- \n",
      " 0   Articles    2225 non-null   object\n",
      " 1   Categories  2225 non-null   object\n",
      "dtypes: object(2)\n",
      "memory usage: 34.9+ KB\n"
     ]
    },
    {
     "data": {
      "text/html": [
       "<div>\n",
       "<style scoped>\n",
       "    .dataframe tbody tr th:only-of-type {\n",
       "        vertical-align: middle;\n",
       "    }\n",
       "\n",
       "    .dataframe tbody tr th {\n",
       "        vertical-align: top;\n",
       "    }\n",
       "\n",
       "    .dataframe thead th {\n",
       "        text-align: right;\n",
       "    }\n",
       "</style>\n",
       "<table border=\"1\" class=\"dataframe\">\n",
       "  <thead>\n",
       "    <tr style=\"text-align: right;\">\n",
       "      <th></th>\n",
       "      <th>Categories</th>\n",
       "    </tr>\n",
       "  </thead>\n",
       "  <tbody>\n",
       "    <tr>\n",
       "      <th>0</th>\n",
       "      <td>tech</td>\n",
       "    </tr>\n",
       "    <tr>\n",
       "      <th>1</th>\n",
       "      <td>business</td>\n",
       "    </tr>\n",
       "    <tr>\n",
       "      <th>2</th>\n",
       "      <td>sport</td>\n",
       "    </tr>\n",
       "    <tr>\n",
       "      <th>3</th>\n",
       "      <td>sport</td>\n",
       "    </tr>\n",
       "    <tr>\n",
       "      <th>4</th>\n",
       "      <td>entertainment</td>\n",
       "    </tr>\n",
       "    <tr>\n",
       "      <th>...</th>\n",
       "      <td>...</td>\n",
       "    </tr>\n",
       "    <tr>\n",
       "      <th>2220</th>\n",
       "      <td>business</td>\n",
       "    </tr>\n",
       "    <tr>\n",
       "      <th>2221</th>\n",
       "      <td>politics</td>\n",
       "    </tr>\n",
       "    <tr>\n",
       "      <th>2222</th>\n",
       "      <td>entertainment</td>\n",
       "    </tr>\n",
       "    <tr>\n",
       "      <th>2223</th>\n",
       "      <td>politics</td>\n",
       "    </tr>\n",
       "    <tr>\n",
       "      <th>2224</th>\n",
       "      <td>sport</td>\n",
       "    </tr>\n",
       "  </tbody>\n",
       "</table>\n",
       "<p>2225 rows × 1 columns</p>\n",
       "</div>"
      ],
      "text/plain": [
       "         Categories\n",
       "0              tech\n",
       "1          business\n",
       "2             sport\n",
       "3             sport\n",
       "4     entertainment\n",
       "...             ...\n",
       "2220       business\n",
       "2221       politics\n",
       "2222  entertainment\n",
       "2223       politics\n",
       "2224          sport\n",
       "\n",
       "[2225 rows x 1 columns]"
      ]
     },
     "execution_count": 14,
     "metadata": {},
     "output_type": "execute_result"
    }
   ],
   "source": [
    "df.info()#checking the null-values = no null values\n",
    "Y=pd.DataFrame(Y)\n",
    "Y"
   ]
  },
  {
   "cell_type": "markdown",
   "metadata": {
    "id": "r2nFDb-iID9m"
   },
   "source": [
    "# Data preprocessing(removing all the unnecessary characters from the data)"
   ]
  },
  {
   "cell_type": "code",
   "execution_count": 15,
   "metadata": {
    "id": "e0UjDMHvJTbp"
   },
   "outputs": [],
   "source": [
    "\n",
    "def cleanText(text):\n",
    "  stemmer = WordNetLemmatizer()#creating an object of WordNetLemmatizer\n",
    "  text=text.lower()#convertin the text into lowercase\n",
    "  text=re.sub('\\[.*?\\]','',text)#remove text in square brackets\n",
    "  text=re.sub('[%s]' % re.escape(string.punctuation),'',text)#remove punctuation markes\n",
    "  text=re.sub('\\w*\\d\\w*','',text) #remove digits or digits which is surrounded by texts\n",
    "  text=re.sub('\\[''\"\"...]','',text)#remove quotation marks\n",
    "  text=re.sub('\\n','',text)#remove \\n if any\n",
    "  text= text.split()#split words\n",
    "  text = [stemmer.lemmatize(word) for word in text]#from each text a single word is taken and on that word lemmatiztion is performed and stored back to text\n",
    "  text = ' '.join(text)# adds space to the words\n",
    "  return text"
   ]
  },
  {
   "cell_type": "code",
   "execution_count": 16,
   "metadata": {
    "colab": {
     "base_uri": "https://localhost:8080/",
     "height": 423
    },
    "id": "eRQG70HDJ1x0",
    "outputId": "63b7291c-3981-4edc-e4af-97ad5f31e3a9"
   },
   "outputs": [
    {
     "data": {
      "text/html": [
       "<div>\n",
       "<style scoped>\n",
       "    .dataframe tbody tr th:only-of-type {\n",
       "        vertical-align: middle;\n",
       "    }\n",
       "\n",
       "    .dataframe tbody tr th {\n",
       "        vertical-align: top;\n",
       "    }\n",
       "\n",
       "    .dataframe thead th {\n",
       "        text-align: right;\n",
       "    }\n",
       "</style>\n",
       "<table border=\"1\" class=\"dataframe\">\n",
       "  <thead>\n",
       "    <tr style=\"text-align: right;\">\n",
       "      <th></th>\n",
       "      <th>Articles</th>\n",
       "      <th>Categories</th>\n",
       "    </tr>\n",
       "  </thead>\n",
       "  <tbody>\n",
       "    <tr>\n",
       "      <th>0</th>\n",
       "      <td>tv future in the hand of viewer with home thea...</td>\n",
       "      <td>tech</td>\n",
       "    </tr>\n",
       "    <tr>\n",
       "      <th>1</th>\n",
       "      <td>worldcom bos left book alone former worldcom b...</td>\n",
       "      <td>business</td>\n",
       "    </tr>\n",
       "    <tr>\n",
       "      <th>2</th>\n",
       "      <td>tiger wary of farrell gamble leicester say the...</td>\n",
       "      <td>sport</td>\n",
       "    </tr>\n",
       "    <tr>\n",
       "      <th>3</th>\n",
       "      <td>yeading face newcastle in fa cup premiership s...</td>\n",
       "      <td>sport</td>\n",
       "    </tr>\n",
       "    <tr>\n",
       "      <th>4</th>\n",
       "      <td>ocean s twelve raid box office ocean s twelve ...</td>\n",
       "      <td>entertainment</td>\n",
       "    </tr>\n",
       "    <tr>\n",
       "      <th>...</th>\n",
       "      <td>...</td>\n",
       "      <td>...</td>\n",
       "    </tr>\n",
       "    <tr>\n",
       "      <th>2220</th>\n",
       "      <td>car pull down u retail figure u retail sale fe...</td>\n",
       "      <td>business</td>\n",
       "    </tr>\n",
       "    <tr>\n",
       "      <th>2221</th>\n",
       "      <td>kilroy unveils immigration policy exchatshow h...</td>\n",
       "      <td>politics</td>\n",
       "    </tr>\n",
       "    <tr>\n",
       "      <th>2222</th>\n",
       "      <td>rem announce new glasgow concert u band rem ha...</td>\n",
       "      <td>entertainment</td>\n",
       "    </tr>\n",
       "    <tr>\n",
       "      <th>2223</th>\n",
       "      <td>how political squabble snowball it s become co...</td>\n",
       "      <td>politics</td>\n",
       "    </tr>\n",
       "    <tr>\n",
       "      <th>2224</th>\n",
       "      <td>souness delight at euro progress bos graeme so...</td>\n",
       "      <td>sport</td>\n",
       "    </tr>\n",
       "  </tbody>\n",
       "</table>\n",
       "<p>2225 rows × 2 columns</p>\n",
       "</div>"
      ],
      "text/plain": [
       "                                               Articles     Categories\n",
       "0     tv future in the hand of viewer with home thea...           tech\n",
       "1     worldcom bos left book alone former worldcom b...       business\n",
       "2     tiger wary of farrell gamble leicester say the...          sport\n",
       "3     yeading face newcastle in fa cup premiership s...          sport\n",
       "4     ocean s twelve raid box office ocean s twelve ...  entertainment\n",
       "...                                                 ...            ...\n",
       "2220  car pull down u retail figure u retail sale fe...       business\n",
       "2221  kilroy unveils immigration policy exchatshow h...       politics\n",
       "2222  rem announce new glasgow concert u band rem ha...  entertainment\n",
       "2223  how political squabble snowball it s become co...       politics\n",
       "2224  souness delight at euro progress bos graeme so...          sport\n",
       "\n",
       "[2225 rows x 2 columns]"
      ]
     },
     "execution_count": 16,
     "metadata": {},
     "output_type": "execute_result"
    }
   ],
   "source": [
    "cleandata=pd.DataFrame(df.Articles.apply(lambda x: cleanText(x)))#CleanText function is applied to every single row of Article column inside the data frame\n",
    "cleandata['Categories']=Y['Categories']#merging the article and Categories columns to gather.\n",
    "cleandata"
   ]
  },
  {
   "cell_type": "code",
   "execution_count": 17,
   "metadata": {
    "colab": {
     "base_uri": "https://localhost:8080/"
    },
    "id": "XwJCGIZKL_KF",
    "outputId": "f0ba17b9-b45e-4e3e-9af2-79a631cb8723"
   },
   "outputs": [
    {
     "data": {
      "text/plain": [
       "0       tv future in the hand of viewer with home thea...\n",
       "1       worldcom bos left book alone former worldcom b...\n",
       "2       tiger wary of farrell gamble leicester say the...\n",
       "3       yeading face newcastle in fa cup premiership s...\n",
       "4       ocean s twelve raid box office ocean s twelve ...\n",
       "                              ...                        \n",
       "2220    car pull down u retail figure u retail sale fe...\n",
       "2221    kilroy unveils immigration policy exchatshow h...\n",
       "2222    rem announce new glasgow concert u band rem ha...\n",
       "2223    how political squabble snowball it s become co...\n",
       "2224    souness delight at euro progress bos graeme so...\n",
       "Name: Articles, Length: 2225, dtype: object"
      ]
     },
     "execution_count": 17,
     "metadata": {},
     "output_type": "execute_result"
    }
   ],
   "source": [
    "cleandata.Articles"
   ]
  },
  {
   "cell_type": "markdown",
   "metadata": {
    "id": "N9N6EhfML8y7"
   },
   "source": [
    "# 1.Feature engineering - Count vectorizer\n",
    "Now, converting the data into document term metix through count vectorizer"
   ]
  },
  {
   "cell_type": "code",
   "execution_count": 18,
   "metadata": {
    "colab": {
     "base_uri": "https://localhost:8080/",
     "height": 235
    },
    "id": "79C5e-ghM7YS",
    "outputId": "dd77cea5-5599-46db-d2b0-23404a4671b1",
    "scrolled": true
   },
   "outputs": [
    {
     "data": {
      "text/html": [
       "<div>\n",
       "<style scoped>\n",
       "    .dataframe tbody tr th:only-of-type {\n",
       "        vertical-align: middle;\n",
       "    }\n",
       "\n",
       "    .dataframe tbody tr th {\n",
       "        vertical-align: top;\n",
       "    }\n",
       "\n",
       "    .dataframe thead th {\n",
       "        text-align: right;\n",
       "    }\n",
       "</style>\n",
       "<table border=\"1\" class=\"dataframe\">\n",
       "  <thead>\n",
       "    <tr style=\"text-align: right;\">\n",
       "      <th></th>\n",
       "      <th>aa</th>\n",
       "      <th>aaa</th>\n",
       "      <th>aac</th>\n",
       "      <th>aadc</th>\n",
       "      <th>aaliyah</th>\n",
       "      <th>aaltra</th>\n",
       "      <th>aamir</th>\n",
       "      <th>aan</th>\n",
       "      <th>aara</th>\n",
       "      <th>aarhus</th>\n",
       "      <th>...</th>\n",
       "      <th>zoom</th>\n",
       "      <th>zooropa</th>\n",
       "      <th>zornotza</th>\n",
       "      <th>zorro</th>\n",
       "      <th>zubair</th>\n",
       "      <th>zuluaga</th>\n",
       "      <th>zurich</th>\n",
       "      <th>zutons</th>\n",
       "      <th>zvonareva</th>\n",
       "      <th>zvyagintsev</th>\n",
       "    </tr>\n",
       "  </thead>\n",
       "  <tbody>\n",
       "    <tr>\n",
       "      <th>0</th>\n",
       "      <td>0</td>\n",
       "      <td>0</td>\n",
       "      <td>0</td>\n",
       "      <td>0</td>\n",
       "      <td>0</td>\n",
       "      <td>0</td>\n",
       "      <td>0</td>\n",
       "      <td>0</td>\n",
       "      <td>0</td>\n",
       "      <td>0</td>\n",
       "      <td>...</td>\n",
       "      <td>0</td>\n",
       "      <td>0</td>\n",
       "      <td>0</td>\n",
       "      <td>0</td>\n",
       "      <td>0</td>\n",
       "      <td>0</td>\n",
       "      <td>0</td>\n",
       "      <td>0</td>\n",
       "      <td>0</td>\n",
       "      <td>0</td>\n",
       "    </tr>\n",
       "    <tr>\n",
       "      <th>1</th>\n",
       "      <td>0</td>\n",
       "      <td>0</td>\n",
       "      <td>0</td>\n",
       "      <td>0</td>\n",
       "      <td>0</td>\n",
       "      <td>0</td>\n",
       "      <td>0</td>\n",
       "      <td>0</td>\n",
       "      <td>0</td>\n",
       "      <td>0</td>\n",
       "      <td>...</td>\n",
       "      <td>0</td>\n",
       "      <td>0</td>\n",
       "      <td>0</td>\n",
       "      <td>0</td>\n",
       "      <td>0</td>\n",
       "      <td>0</td>\n",
       "      <td>0</td>\n",
       "      <td>0</td>\n",
       "      <td>0</td>\n",
       "      <td>0</td>\n",
       "    </tr>\n",
       "    <tr>\n",
       "      <th>2</th>\n",
       "      <td>0</td>\n",
       "      <td>0</td>\n",
       "      <td>0</td>\n",
       "      <td>0</td>\n",
       "      <td>0</td>\n",
       "      <td>0</td>\n",
       "      <td>0</td>\n",
       "      <td>0</td>\n",
       "      <td>0</td>\n",
       "      <td>0</td>\n",
       "      <td>...</td>\n",
       "      <td>0</td>\n",
       "      <td>0</td>\n",
       "      <td>0</td>\n",
       "      <td>0</td>\n",
       "      <td>0</td>\n",
       "      <td>0</td>\n",
       "      <td>0</td>\n",
       "      <td>0</td>\n",
       "      <td>0</td>\n",
       "      <td>0</td>\n",
       "    </tr>\n",
       "    <tr>\n",
       "      <th>3</th>\n",
       "      <td>0</td>\n",
       "      <td>0</td>\n",
       "      <td>0</td>\n",
       "      <td>0</td>\n",
       "      <td>0</td>\n",
       "      <td>0</td>\n",
       "      <td>0</td>\n",
       "      <td>0</td>\n",
       "      <td>0</td>\n",
       "      <td>0</td>\n",
       "      <td>...</td>\n",
       "      <td>0</td>\n",
       "      <td>0</td>\n",
       "      <td>0</td>\n",
       "      <td>0</td>\n",
       "      <td>0</td>\n",
       "      <td>0</td>\n",
       "      <td>0</td>\n",
       "      <td>0</td>\n",
       "      <td>0</td>\n",
       "      <td>0</td>\n",
       "    </tr>\n",
       "    <tr>\n",
       "      <th>4</th>\n",
       "      <td>0</td>\n",
       "      <td>0</td>\n",
       "      <td>0</td>\n",
       "      <td>0</td>\n",
       "      <td>0</td>\n",
       "      <td>0</td>\n",
       "      <td>0</td>\n",
       "      <td>0</td>\n",
       "      <td>0</td>\n",
       "      <td>0</td>\n",
       "      <td>...</td>\n",
       "      <td>0</td>\n",
       "      <td>0</td>\n",
       "      <td>0</td>\n",
       "      <td>0</td>\n",
       "      <td>0</td>\n",
       "      <td>0</td>\n",
       "      <td>0</td>\n",
       "      <td>0</td>\n",
       "      <td>0</td>\n",
       "      <td>0</td>\n",
       "    </tr>\n",
       "  </tbody>\n",
       "</table>\n",
       "<p>5 rows × 26914 columns</p>\n",
       "</div>"
      ],
      "text/plain": [
       "   aa  aaa  aac  aadc  aaliyah  aaltra  aamir  aan  aara  aarhus  ...  zoom  \\\n",
       "0   0    0    0     0        0       0      0    0     0       0  ...     0   \n",
       "1   0    0    0     0        0       0      0    0     0       0  ...     0   \n",
       "2   0    0    0     0        0       0      0    0     0       0  ...     0   \n",
       "3   0    0    0     0        0       0      0    0     0       0  ...     0   \n",
       "4   0    0    0     0        0       0      0    0     0       0  ...     0   \n",
       "\n",
       "   zooropa  zornotza  zorro  zubair  zuluaga  zurich  zutons  zvonareva  \\\n",
       "0        0         0      0       0        0       0       0          0   \n",
       "1        0         0      0       0        0       0       0          0   \n",
       "2        0         0      0       0        0       0       0          0   \n",
       "3        0         0      0       0        0       0       0          0   \n",
       "4        0         0      0       0        0       0       0          0   \n",
       "\n",
       "   zvyagintsev  \n",
       "0            0  \n",
       "1            0  \n",
       "2            0  \n",
       "3            0  \n",
       "4            0  \n",
       "\n",
       "[5 rows x 26914 columns]"
      ]
     },
     "execution_count": 18,
     "metadata": {},
     "output_type": "execute_result"
    }
   ],
   "source": [
    "from pandas.core.frame import DataFrame\n",
    "cv=CountVectorizer(stop_words='english')\n",
    "Xcv=cv.fit_transform(cleandata.Articles).toarray()\n",
    "Xcv=pd.DataFrame(Xcv,columns=cv.get_feature_names_out())\n",
    "Xcv.head()"
   ]
  },
  {
   "cell_type": "markdown",
   "metadata": {
    "id": "mJTNBExQXRud"
   },
   "source": [
    "# 2.Feature engineering - TFIDF \n",
    "Now, using second feature Tfidf"
   ]
  },
  {
   "cell_type": "code",
   "execution_count": 19,
   "metadata": {
    "colab": {
     "base_uri": "https://localhost:8080/"
    },
    "id": "faKazSK-Xe9m",
    "outputId": "790a592c-23c6-4068-919e-68969032dce9"
   },
   "outputs": [
    {
     "data": {
      "text/plain": [
       "<2225x26914 sparse matrix of type '<class 'numpy.float64'>'\n",
       "\twith 300141 stored elements in Compressed Sparse Row format>"
      ]
     },
     "execution_count": 19,
     "metadata": {},
     "output_type": "execute_result"
    }
   ],
   "source": [
    "tfidfv=TfidfVectorizer(stop_words='english')\n",
    "Xtfidf=tfidfv.fit_transform(cleandata.Articles)\n",
    "Xtfidf"
   ]
  },
  {
   "cell_type": "markdown",
   "metadata": {
    "id": "0jN8bFi9TJzj"
   },
   "source": [
    "#3. Feature engineering - Ngram"
   ]
  },
  {
   "cell_type": "code",
   "execution_count": 20,
   "metadata": {
    "colab": {
     "base_uri": "https://localhost:8080/"
    },
    "id": "TXma2EMN5VSF",
    "outputId": "d5e8bf13-f9ce-4008-ef57-ed45add75133"
   },
   "outputs": [
    {
     "data": {
      "text/plain": [
       "<2225x14272 sparse matrix of type '<class 'numpy.float64'>'\n",
       "\twith 300646 stored elements in Compressed Sparse Row format>"
      ]
     },
     "execution_count": 20,
     "metadata": {},
     "output_type": "execute_result"
    }
   ],
   "source": [
    "cvngram=TfidfVectorizer(min_df=7,ngram_range=(2,2))\n",
    "X=cvngram.fit_transform(cleandata.Articles)\n",
    "X"
   ]
  },
  {
   "cell_type": "markdown",
   "metadata": {
    "id": "D0YQ2puYTVYM"
   },
   "source": [
    "#Combining all the three features"
   ]
  },
  {
   "cell_type": "code",
   "execution_count": 21,
   "metadata": {
    "colab": {
     "base_uri": "https://localhost:8080/"
    },
    "id": "4cYkHxv0q5kI",
    "outputId": "d4de6f8b-efe9-4d82-ced4-5485b849c26d"
   },
   "outputs": [
    {
     "name": "stderr",
     "output_type": "stream",
     "text": [
      "C:\\Users\\ashwi\\anaconda3\\lib\\site-packages\\sklearn\\utils\\validation.py:1143: DataConversionWarning: A column-vector y was passed when a 1d array was expected. Please change the shape of y to (n_samples, ), for example using ravel().\n",
      "  y = column_or_1d(y, warn=True)\n"
     ]
    }
   ],
   "source": [
    "features=FeatureUnion([('tfidfv',tfidfv),('cv',cv),('cvngram',cvngram)])\n",
    "X=features.fit_transform(cleandata.Articles)\n",
    "X1=SelectKBest(score_func=f_classif,k= 3000).fit_transform(X,Y)\n"
   ]
  },
  {
   "cell_type": "markdown",
   "metadata": {
    "id": "ncRUcftWTmMo"
   },
   "source": [
    "#Kfold "
   ]
  },
  {
   "cell_type": "code",
   "execution_count": 22,
   "metadata": {
    "colab": {
     "base_uri": "https://localhost:8080/"
    },
    "id": "2SD7-VzZX2LY",
    "outputId": "e33b3088-1748-40e1-cc94-8c0e2f3fcafd"
   },
   "outputs": [
    {
     "data": {
      "text/plain": [
       "KFold(n_splits=5, random_state=42, shuffle=True)"
      ]
     },
     "execution_count": 22,
     "metadata": {},
     "output_type": "execute_result"
    }
   ],
   "source": [
    "kf=KFold(n_splits=5,random_state=42, shuffle=True)\n",
    "kf"
   ]
  },
  {
   "cell_type": "markdown",
   "metadata": {
    "id": "Cbvj7MN0Tr7j"
   },
   "source": [
    "#Model selection Dictionary"
   ]
  },
  {
   "cell_type": "code",
   "execution_count": 23,
   "metadata": {
    "id": "u-VzvNIgXMV_"
   },
   "outputs": [],
   "source": [
    "modelselection={\n",
    "  'SupportVectorMachine': {\n",
    "  'model': svm.SVC(gamma='auto',random_state=42),\n",
    "  'params':{\n",
    "    'C':[1,5,10,20],\n",
    "    'kernel':['rbf','linear']\n",
    "    }\n",
    "  },\n",
    "   'RandomForsetClassifier': {\n",
    "  'model': RandomForestClassifier(random_state=42),\n",
    "  'params':{\n",
    "    'n_estimators':[20,50,60]\n",
    "    }\n",
    "  },\n",
    "  'LogisticRegression': {\n",
    "  'model': LogisticRegression(solver='liblinear',multi_class='auto',random_state=42),\n",
    "  'params':{\n",
    "    'C':[5,10,20]\n",
    "    }\n",
    "  },\n",
    "  'NaiveBayes-Multimonial':{\n",
    "  'model':MultinomialNB(),\n",
    "  'params':{\n",
    "    }\n",
    "  },\n",
    "  'NaiveBayes-Bernoulli': {\n",
    "  'model': BernoulliNB(),\n",
    "  'params':{\n",
    "\n",
    "    }\n",
    "  },\n",
    " 'VotingClassifier': {\n",
    "  'model': VotingClassifier(\n",
    "      estimators=[('lr',LogisticRegression(solver='liblinear',multi_class='auto',random_state=42)),('rfc',RandomForestClassifier(random_state=42)),('svm',svm.SVC(gamma='auto',random_state=42)),('nbm',MultinomialNB()),('nbb',BernoulliNB())],\n",
    "      voting='hard'\n",
    "  ),\n",
    "  'params':{\n",
    "\n",
    "    }\n",
    "  },\n",
    "  \n",
    "}\n"
   ]
  },
  {
   "cell_type": "code",
   "execution_count": 25,
   "metadata": {
    "colab": {
     "base_uri": "https://localhost:8080/"
    },
    "id": "eTm370y4XqGC",
    "outputId": "6ce0097b-5af4-42d5-e659-07dce9fab7ce"
   },
   "outputs": [
    {
     "name": "stdout",
     "output_type": "stream",
     "text": [
      "number of iterations\n",
      "--------------------\n",
      "number of iterations\n",
      "--------------------\n",
      "number of iterations\n",
      "--------------------\n",
      "number of iterations\n",
      "--------------------\n",
      "number of iterations\n",
      "--------------------\n"
     ]
    }
   ],
   "source": [
    "score=[]\n",
    "for train, test in kf.split(X1):\n",
    "  Xtrain,Xtest,Ytrain,Ytest=X1[train],X1[test],cleandata.Categories[train], cleandata.Categories[test]\n",
    "  for modelname, mp in modelselection.items():\n",
    "    clf=GridSearchCV(mp['model'],mp['params'],return_train_score=False)\n",
    "    clf.fit(Xtrain,Ytrain)\n",
    "    score.append({\n",
    "      'model':modelname,\n",
    "      'best_score':clf.best_score_,\n",
    "      'best_params':clf.best_params_\n",
    "    })\n",
    "  print('number of iterations')\n",
    "  print('--------------------')"
   ]
  },
  {
   "cell_type": "code",
   "execution_count": 26,
   "metadata": {
    "colab": {
     "base_uri": "https://localhost:8080/",
     "height": 990
    },
    "id": "Ob_tBi4yYeEp",
    "outputId": "9724869b-64ce-4750-bc80-bd04f4073b37",
    "scrolled": true
   },
   "outputs": [
    {
     "data": {
      "text/html": [
       "<div>\n",
       "<style scoped>\n",
       "    .dataframe tbody tr th:only-of-type {\n",
       "        vertical-align: middle;\n",
       "    }\n",
       "\n",
       "    .dataframe tbody tr th {\n",
       "        vertical-align: top;\n",
       "    }\n",
       "\n",
       "    .dataframe thead th {\n",
       "        text-align: right;\n",
       "    }\n",
       "</style>\n",
       "<table border=\"1\" class=\"dataframe\">\n",
       "  <thead>\n",
       "    <tr style=\"text-align: right;\">\n",
       "      <th></th>\n",
       "      <th>model</th>\n",
       "      <th>best_score</th>\n",
       "      <th>best_params</th>\n",
       "    </tr>\n",
       "  </thead>\n",
       "  <tbody>\n",
       "    <tr>\n",
       "      <th>0</th>\n",
       "      <td>SupportVectorMachine</td>\n",
       "      <td>0.968539</td>\n",
       "      <td>{'C': 10, 'kernel': 'rbf'}</td>\n",
       "    </tr>\n",
       "    <tr>\n",
       "      <th>1</th>\n",
       "      <td>RandomForsetClassifier</td>\n",
       "      <td>0.959551</td>\n",
       "      <td>{'n_estimators': 60}</td>\n",
       "    </tr>\n",
       "    <tr>\n",
       "      <th>2</th>\n",
       "      <td>LogisticRegression</td>\n",
       "      <td>0.975281</td>\n",
       "      <td>{'C': 5}</td>\n",
       "    </tr>\n",
       "    <tr>\n",
       "      <th>3</th>\n",
       "      <td>NaiveBayes-Multimonial</td>\n",
       "      <td>0.973034</td>\n",
       "      <td>{}</td>\n",
       "    </tr>\n",
       "    <tr>\n",
       "      <th>4</th>\n",
       "      <td>NaiveBayes-Bernoulli</td>\n",
       "      <td>0.967978</td>\n",
       "      <td>{}</td>\n",
       "    </tr>\n",
       "    <tr>\n",
       "      <th>5</th>\n",
       "      <td>VotingClassifier</td>\n",
       "      <td>0.979213</td>\n",
       "      <td>{}</td>\n",
       "    </tr>\n",
       "    <tr>\n",
       "      <th>6</th>\n",
       "      <td>SupportVectorMachine</td>\n",
       "      <td>0.964607</td>\n",
       "      <td>{'C': 5, 'kernel': 'rbf'}</td>\n",
       "    </tr>\n",
       "    <tr>\n",
       "      <th>7</th>\n",
       "      <td>RandomForsetClassifier</td>\n",
       "      <td>0.957303</td>\n",
       "      <td>{'n_estimators': 60}</td>\n",
       "    </tr>\n",
       "    <tr>\n",
       "      <th>8</th>\n",
       "      <td>LogisticRegression</td>\n",
       "      <td>0.969663</td>\n",
       "      <td>{'C': 5}</td>\n",
       "    </tr>\n",
       "    <tr>\n",
       "      <th>9</th>\n",
       "      <td>NaiveBayes-Multimonial</td>\n",
       "      <td>0.970787</td>\n",
       "      <td>{}</td>\n",
       "    </tr>\n",
       "    <tr>\n",
       "      <th>10</th>\n",
       "      <td>NaiveBayes-Bernoulli</td>\n",
       "      <td>0.962921</td>\n",
       "      <td>{}</td>\n",
       "    </tr>\n",
       "    <tr>\n",
       "      <th>11</th>\n",
       "      <td>VotingClassifier</td>\n",
       "      <td>0.975281</td>\n",
       "      <td>{}</td>\n",
       "    </tr>\n",
       "    <tr>\n",
       "      <th>12</th>\n",
       "      <td>SupportVectorMachine</td>\n",
       "      <td>0.962360</td>\n",
       "      <td>{'C': 20, 'kernel': 'rbf'}</td>\n",
       "    </tr>\n",
       "    <tr>\n",
       "      <th>13</th>\n",
       "      <td>RandomForsetClassifier</td>\n",
       "      <td>0.953371</td>\n",
       "      <td>{'n_estimators': 60}</td>\n",
       "    </tr>\n",
       "    <tr>\n",
       "      <th>14</th>\n",
       "      <td>LogisticRegression</td>\n",
       "      <td>0.970225</td>\n",
       "      <td>{'C': 10}</td>\n",
       "    </tr>\n",
       "    <tr>\n",
       "      <th>15</th>\n",
       "      <td>NaiveBayes-Multimonial</td>\n",
       "      <td>0.972472</td>\n",
       "      <td>{}</td>\n",
       "    </tr>\n",
       "    <tr>\n",
       "      <th>16</th>\n",
       "      <td>NaiveBayes-Bernoulli</td>\n",
       "      <td>0.965169</td>\n",
       "      <td>{}</td>\n",
       "    </tr>\n",
       "    <tr>\n",
       "      <th>17</th>\n",
       "      <td>VotingClassifier</td>\n",
       "      <td>0.971348</td>\n",
       "      <td>{}</td>\n",
       "    </tr>\n",
       "    <tr>\n",
       "      <th>18</th>\n",
       "      <td>SupportVectorMachine</td>\n",
       "      <td>0.965169</td>\n",
       "      <td>{'C': 10, 'kernel': 'rbf'}</td>\n",
       "    </tr>\n",
       "    <tr>\n",
       "      <th>19</th>\n",
       "      <td>RandomForsetClassifier</td>\n",
       "      <td>0.952247</td>\n",
       "      <td>{'n_estimators': 60}</td>\n",
       "    </tr>\n",
       "    <tr>\n",
       "      <th>20</th>\n",
       "      <td>LogisticRegression</td>\n",
       "      <td>0.972472</td>\n",
       "      <td>{'C': 5}</td>\n",
       "    </tr>\n",
       "    <tr>\n",
       "      <th>21</th>\n",
       "      <td>NaiveBayes-Multimonial</td>\n",
       "      <td>0.972472</td>\n",
       "      <td>{}</td>\n",
       "    </tr>\n",
       "    <tr>\n",
       "      <th>22</th>\n",
       "      <td>NaiveBayes-Bernoulli</td>\n",
       "      <td>0.964607</td>\n",
       "      <td>{}</td>\n",
       "    </tr>\n",
       "    <tr>\n",
       "      <th>23</th>\n",
       "      <td>VotingClassifier</td>\n",
       "      <td>0.974157</td>\n",
       "      <td>{}</td>\n",
       "    </tr>\n",
       "    <tr>\n",
       "      <th>24</th>\n",
       "      <td>SupportVectorMachine</td>\n",
       "      <td>0.957865</td>\n",
       "      <td>{'C': 1, 'kernel': 'linear'}</td>\n",
       "    </tr>\n",
       "    <tr>\n",
       "      <th>25</th>\n",
       "      <td>RandomForsetClassifier</td>\n",
       "      <td>0.951685</td>\n",
       "      <td>{'n_estimators': 60}</td>\n",
       "    </tr>\n",
       "    <tr>\n",
       "      <th>26</th>\n",
       "      <td>LogisticRegression</td>\n",
       "      <td>0.964045</td>\n",
       "      <td>{'C': 5}</td>\n",
       "    </tr>\n",
       "    <tr>\n",
       "      <th>27</th>\n",
       "      <td>NaiveBayes-Multimonial</td>\n",
       "      <td>0.968539</td>\n",
       "      <td>{}</td>\n",
       "    </tr>\n",
       "    <tr>\n",
       "      <th>28</th>\n",
       "      <td>NaiveBayes-Bernoulli</td>\n",
       "      <td>0.959551</td>\n",
       "      <td>{}</td>\n",
       "    </tr>\n",
       "    <tr>\n",
       "      <th>29</th>\n",
       "      <td>VotingClassifier</td>\n",
       "      <td>0.971910</td>\n",
       "      <td>{}</td>\n",
       "    </tr>\n",
       "  </tbody>\n",
       "</table>\n",
       "</div>"
      ],
      "text/plain": [
       "                     model  best_score                   best_params\n",
       "0     SupportVectorMachine    0.968539    {'C': 10, 'kernel': 'rbf'}\n",
       "1   RandomForsetClassifier    0.959551          {'n_estimators': 60}\n",
       "2       LogisticRegression    0.975281                      {'C': 5}\n",
       "3   NaiveBayes-Multimonial    0.973034                            {}\n",
       "4     NaiveBayes-Bernoulli    0.967978                            {}\n",
       "5         VotingClassifier    0.979213                            {}\n",
       "6     SupportVectorMachine    0.964607     {'C': 5, 'kernel': 'rbf'}\n",
       "7   RandomForsetClassifier    0.957303          {'n_estimators': 60}\n",
       "8       LogisticRegression    0.969663                      {'C': 5}\n",
       "9   NaiveBayes-Multimonial    0.970787                            {}\n",
       "10    NaiveBayes-Bernoulli    0.962921                            {}\n",
       "11        VotingClassifier    0.975281                            {}\n",
       "12    SupportVectorMachine    0.962360    {'C': 20, 'kernel': 'rbf'}\n",
       "13  RandomForsetClassifier    0.953371          {'n_estimators': 60}\n",
       "14      LogisticRegression    0.970225                     {'C': 10}\n",
       "15  NaiveBayes-Multimonial    0.972472                            {}\n",
       "16    NaiveBayes-Bernoulli    0.965169                            {}\n",
       "17        VotingClassifier    0.971348                            {}\n",
       "18    SupportVectorMachine    0.965169    {'C': 10, 'kernel': 'rbf'}\n",
       "19  RandomForsetClassifier    0.952247          {'n_estimators': 60}\n",
       "20      LogisticRegression    0.972472                      {'C': 5}\n",
       "21  NaiveBayes-Multimonial    0.972472                            {}\n",
       "22    NaiveBayes-Bernoulli    0.964607                            {}\n",
       "23        VotingClassifier    0.974157                            {}\n",
       "24    SupportVectorMachine    0.957865  {'C': 1, 'kernel': 'linear'}\n",
       "25  RandomForsetClassifier    0.951685          {'n_estimators': 60}\n",
       "26      LogisticRegression    0.964045                      {'C': 5}\n",
       "27  NaiveBayes-Multimonial    0.968539                            {}\n",
       "28    NaiveBayes-Bernoulli    0.959551                            {}\n",
       "29        VotingClassifier    0.971910                            {}"
      ]
     },
     "execution_count": 26,
     "metadata": {},
     "output_type": "execute_result"
    }
   ],
   "source": [
    "pd.DataFrame(score)"
   ]
  },
  {
   "cell_type": "markdown",
   "metadata": {
    "id": "_JJDZ3PTR9N4"
   },
   "source": [
    "# CrossValidation"
   ]
  },
  {
   "cell_type": "code",
   "execution_count": 27,
   "metadata": {
    "colab": {
     "base_uri": "https://localhost:8080/"
    },
    "id": "Gx7dP4eWYHUU",
    "outputId": "bb08e9cd-0abd-4cea-fb8f-eed476a57bef"
   },
   "outputs": [
    {
     "name": "stdout",
     "output_type": "stream",
     "text": [
      "The accuracy is  0.9725842696629213\n",
      "The macro average precision is  0.9726310634441191\n",
      "The macro average recall is  0.9710474797659518\n",
      "The macro average f1-score is  0.9716654670914592\n"
     ]
    }
   ],
   "source": [
    "values=[]\n",
    "accuracy=[]\n",
    "classi=[]\n",
    "recall=[]\n",
    "precision=[]\n",
    "f1=[]\n",
    "vc=VotingClassifier(estimators=[('lr',LogisticRegression(solver='liblinear',multi_class='auto',random_state=42)),('rfc',RandomForestClassifier(random_state=42)),('svm',svm.SVC(gamma='auto',random_state=42)),('nbm',MultinomialNB()),('nbb',BernoulliNB())],\n",
    "     voting='hard')\n",
    "totalscore=0\n",
    "for train, test in kf.split(X1):\n",
    "  Xtrain,Xtest,Ytrain,Ytest=X1[train],X1[test],cleandata.Categories[train], cleandata.Categories[test]\n",
    "  vc.fit(Xtrain,Ytrain)\n",
    "  predictedvalues=vc.predict(Xtest)\n",
    "  values.append(predictedvalues)\n",
    "  score=accuracy_score(Ytest,predictedvalues)\n",
    "  recallvar=recall_score(Ytest,predictedvalues,average='macro')\n",
    "  recall.append(recallvar)\n",
    "  prevar=precision_score(Ytest,predictedvalues,average='macro')\n",
    "  precision.append(prevar)\n",
    "  accuracy.append(score)\n",
    "  f1.append(f1_score(Ytest,predictedvalues,average='macro'))\n",
    "print('The accuracy is ',np.mean(accuracy))\n",
    "print('The macro average precision is ',np.mean(precision))\n",
    "print('The macro average recall is ',np.mean(recall))\n",
    "print('The macro average f1-score is ',np.mean(f1))"
   ]
  },
  {
   "cell_type": "code",
   "execution_count": null,
   "metadata": {},
   "outputs": [],
   "source": []
  }
 ],
 "metadata": {
  "colab": {
   "collapsed_sections": [],
   "name": "part-2-final.ipynb",
   "provenance": []
  },
  "kernelspec": {
   "display_name": "Python 3",
   "language": "python",
   "name": "python3"
  },
  "language_info": {
   "codemirror_mode": {
    "name": "ipython",
    "version": 3
   },
   "file_extension": ".py",
   "mimetype": "text/x-python",
   "name": "python",
   "nbconvert_exporter": "python",
   "pygments_lexer": "ipython3",
   "version": "3.8.8"
  }
 },
 "nbformat": 4,
 "nbformat_minor": 1
}
